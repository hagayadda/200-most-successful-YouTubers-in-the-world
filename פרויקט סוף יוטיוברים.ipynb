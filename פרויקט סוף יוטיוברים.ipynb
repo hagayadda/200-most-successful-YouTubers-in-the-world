{
 "cells": [
  {
   "cell_type": "markdown",
   "id": "f1ddb6b1-4cbf-4987-aecd-ffd0108ca5ba",
   "metadata": {
    "tags": []
   },
   "source": [
    "# Final project -  Top 200 YouTubers"
   ]
  },
  {
   "cell_type": "markdown",
   "id": "64016dd9-b9fb-41a6-a678-506c628ac4b6",
   "metadata": {},
   "source": [
    "<center><img src=\"https://upload.wikimedia.org/wikipedia/commons/e/ea/Youtube_2018.gif\"\n",
    "     width=\"500\"  > </center>"
   ]
  },
  {
   "cell_type": "markdown",
   "id": "22e0b8af-312b-48fc-83e3-fbfaa137ad8d",
   "metadata": {},
   "source": [
    "------------\n",
    "#### The project is submitted by: \n",
    "#### Aviad Weiss\n",
    "#### hagay adda\n",
    "#### Ziv Sztrigler\n",
    "#### Dov Radoszkowicz\n",
    "----------"
   ]
  },
  {
   "cell_type": "markdown",
   "id": "568cd5ef-785f-4b37-bca7-a8110b7434ee",
   "metadata": {},
   "source": [
    "##### 1. Presentation of the project topic \n",
    " 1.1 Presentation of data   \n",
    " 1.2 Dropping repeating duplicate rows                 \n",
    "1.3 Displaying the updated data\n",
    "\n",
    "##### 2. Presentation of YouTubers by country\n",
    "##### 3. Presentation of YouTubers by number of followers\n",
    "##### 4. Presentation of the different categories of YouTube channels\n",
    "##### 5. Checking the subcategories within the top category for all YouTubers\n",
    "\n"
   ]
  },
  {
   "cell_type": "code",
   "execution_count": 738,
   "id": "0464c4fe-be52-4532-bb5a-061f9b0f7cce",
   "metadata": {},
   "outputs": [],
   "source": [
    "import numpy as np\n",
    "import pandas as pd\n",
    "import seaborn as sns\n",
    "import matplotlib.pyplot as plt"
   ]
  },
  {
   "cell_type": "markdown",
   "id": "d4771a01-e455-4521-b14b-5a5d93286980",
   "metadata": {},
   "source": [
    "#  1. Presentation of the project topic\n",
    "## 1.1  Presentation of data\n",
    "<a id='section0'></a>\n",
    "\n"
   ]
  },
  {
   "cell_type": "code",
   "execution_count": 643,
   "id": "3cca732f-59fa-40e9-a161-41c0e4d5660a",
   "metadata": {},
   "outputs": [],
   "source": [
    "url=\"https://raw.githubusercontent.com/zivszt/project-masters/main/top_200_youtubers%20(1).csv\"\n",
    "youtubers_df=pd.read_csv(url)"
   ]
  },
  {
   "cell_type": "code",
   "execution_count": 644,
   "id": "806567e7-4704-4e45-adfd-8159f348c8a0",
   "metadata": {},
   "outputs": [
    {
     "data": {
      "text/html": [
       "<div>\n",
       "<style scoped>\n",
       "    .dataframe tbody tr th:only-of-type {\n",
       "        vertical-align: middle;\n",
       "    }\n",
       "\n",
       "    .dataframe tbody tr th {\n",
       "        vertical-align: top;\n",
       "    }\n",
       "\n",
       "    .dataframe thead th {\n",
       "        text-align: right;\n",
       "    }\n",
       "</style>\n",
       "<table border=\"1\" class=\"dataframe\">\n",
       "  <thead>\n",
       "    <tr style=\"text-align: right;\">\n",
       "      <th></th>\n",
       "      <th>Country</th>\n",
       "      <th>Channel Name</th>\n",
       "      <th>Category</th>\n",
       "      <th>Main Video Category</th>\n",
       "      <th>username</th>\n",
       "      <th>followers</th>\n",
       "      <th>Main topic</th>\n",
       "      <th>More topics</th>\n",
       "      <th>Likes</th>\n",
       "      <th>Boost Index</th>\n",
       "      <th>...</th>\n",
       "      <th>Views</th>\n",
       "      <th>Views Avg.</th>\n",
       "      <th>Avg. 1 Day</th>\n",
       "      <th>Avg. 3 Day</th>\n",
       "      <th>Avg. 7 Day</th>\n",
       "      <th>Avg. 14 Day</th>\n",
       "      <th>Avg. 30 day</th>\n",
       "      <th>Avg. 60 day</th>\n",
       "      <th>Comments Avg</th>\n",
       "      <th>Youtube Link</th>\n",
       "    </tr>\n",
       "  </thead>\n",
       "  <tbody>\n",
       "    <tr>\n",
       "      <th>0</th>\n",
       "      <td>IN</td>\n",
       "      <td>T-Series</td>\n",
       "      <td>Gaming &amp; Apps</td>\n",
       "      <td>Music</td>\n",
       "      <td>T-Series</td>\n",
       "      <td>220000000</td>\n",
       "      <td>Music of Asia</td>\n",
       "      <td>Entertainment,Music of Asia,Music,Movies</td>\n",
       "      <td>1.602680e+09</td>\n",
       "      <td>83</td>\n",
       "      <td>...</td>\n",
       "      <td>195660744416</td>\n",
       "      <td>2.095329e+06</td>\n",
       "      <td>1.522448e+05</td>\n",
       "      <td>2134569.625</td>\n",
       "      <td>1.809830e+06</td>\n",
       "      <td>2.306178e+06</td>\n",
       "      <td>1.676330e+06</td>\n",
       "      <td>2.295416e+06</td>\n",
       "      <td>4493.984146</td>\n",
       "      <td>UCq-Fj5jknLsUf-MWSy4_brA</td>\n",
       "    </tr>\n",
       "    <tr>\n",
       "      <th>1</th>\n",
       "      <td>US</td>\n",
       "      <td>ABCkidTV - Nursery Rhymes</td>\n",
       "      <td>Gaming &amp; Apps</td>\n",
       "      <td>Education</td>\n",
       "      <td>ABCkidTV - Nursery Rhymes</td>\n",
       "      <td>138000000</td>\n",
       "      <td>Movies</td>\n",
       "      <td>Entertainment,Music,Movies</td>\n",
       "      <td>2.209901e+08</td>\n",
       "      <td>63</td>\n",
       "      <td>...</td>\n",
       "      <td>133025325473</td>\n",
       "      <td>7.027126e+07</td>\n",
       "      <td>1.837916e+06</td>\n",
       "      <td>1837916.000</td>\n",
       "      <td>4.891832e+06</td>\n",
       "      <td>7.052576e+06</td>\n",
       "      <td>1.265433e+07</td>\n",
       "      <td>1.572284e+07</td>\n",
       "      <td>146.700252</td>\n",
       "      <td>UCbCmjCuTUZos6Inko4u57UQ</td>\n",
       "    </tr>\n",
       "    <tr>\n",
       "      <th>2</th>\n",
       "      <td>IN</td>\n",
       "      <td>SET India</td>\n",
       "      <td>Gaming &amp; Apps</td>\n",
       "      <td>Shows</td>\n",
       "      <td>SET India</td>\n",
       "      <td>137000000</td>\n",
       "      <td>Movies</td>\n",
       "      <td>Entertainment,TV shows,Music,Movies</td>\n",
       "      <td>1.748752e+08</td>\n",
       "      <td>79</td>\n",
       "      <td>...</td>\n",
       "      <td>121741739317</td>\n",
       "      <td>1.095729e+05</td>\n",
       "      <td>NaN</td>\n",
       "      <td>586040.000</td>\n",
       "      <td>2.801276e+05</td>\n",
       "      <td>3.437881e+05</td>\n",
       "      <td>3.536019e+05</td>\n",
       "      <td>3.220336e+05</td>\n",
       "      <td>76.244316</td>\n",
       "      <td>UCpEhnqL0y41EpW2TvWAHD7Q</td>\n",
       "    </tr>\n",
       "    <tr>\n",
       "      <th>3</th>\n",
       "      <td>US</td>\n",
       "      <td>PewDiePie</td>\n",
       "      <td>Gaming &amp; Apps</td>\n",
       "      <td>Gaming</td>\n",
       "      <td>PewDiePie</td>\n",
       "      <td>111000000</td>\n",
       "      <td>Lifestyle</td>\n",
       "      <td>Gaming,Action game,Lifestyle,Action-adventure ...</td>\n",
       "      <td>2.191406e+09</td>\n",
       "      <td>88</td>\n",
       "      <td>...</td>\n",
       "      <td>28424113942</td>\n",
       "      <td>7.718345e+06</td>\n",
       "      <td>NaN</td>\n",
       "      <td>NaN</td>\n",
       "      <td>3.497395e+06</td>\n",
       "      <td>3.094440e+06</td>\n",
       "      <td>3.620274e+06</td>\n",
       "      <td>4.454120e+06</td>\n",
       "      <td>35839.781347</td>\n",
       "      <td>UC-lHJZR3Gqxm24_Vd_AJ5Yw</td>\n",
       "    </tr>\n",
       "    <tr>\n",
       "      <th>4</th>\n",
       "      <td>US</td>\n",
       "      <td>MrBeast</td>\n",
       "      <td>Gaming &amp; Apps</td>\n",
       "      <td>Entertainment</td>\n",
       "      <td>MrBeast</td>\n",
       "      <td>98100000</td>\n",
       "      <td>Lifestyle</td>\n",
       "      <td>Entertainment,Lifestyle,Technology</td>\n",
       "      <td>1.731833e+09</td>\n",
       "      <td>60</td>\n",
       "      <td>...</td>\n",
       "      <td>16242634269</td>\n",
       "      <td>9.876250e+07</td>\n",
       "      <td>NaN</td>\n",
       "      <td>NaN</td>\n",
       "      <td>2.994102e+07</td>\n",
       "      <td>2.994102e+07</td>\n",
       "      <td>2.994102e+07</td>\n",
       "      <td>5.343473e+07</td>\n",
       "      <td>113432.373684</td>\n",
       "      <td>UCX6OQ3DkcsbYNE6H8uQQuVA</td>\n",
       "    </tr>\n",
       "  </tbody>\n",
       "</table>\n",
       "<p>5 rows × 22 columns</p>\n",
       "</div>"
      ],
      "text/plain": [
       "  Country               Channel Name       Category Main Video Category  \\\n",
       "0      IN                   T-Series  Gaming & Apps               Music   \n",
       "1      US  ABCkidTV - Nursery Rhymes  Gaming & Apps           Education   \n",
       "2      IN                  SET India  Gaming & Apps               Shows   \n",
       "3      US                  PewDiePie  Gaming & Apps              Gaming   \n",
       "4      US                    MrBeast  Gaming & Apps       Entertainment   \n",
       "\n",
       "                    username  followers     Main topic  \\\n",
       "0                   T-Series  220000000  Music of Asia   \n",
       "1  ABCkidTV - Nursery Rhymes  138000000         Movies   \n",
       "2                  SET India  137000000         Movies   \n",
       "3                  PewDiePie  111000000      Lifestyle   \n",
       "4                    MrBeast   98100000      Lifestyle   \n",
       "\n",
       "                                         More topics         Likes  \\\n",
       "0           Entertainment,Music of Asia,Music,Movies  1.602680e+09   \n",
       "1                         Entertainment,Music,Movies  2.209901e+08   \n",
       "2                Entertainment,TV shows,Music,Movies  1.748752e+08   \n",
       "3  Gaming,Action game,Lifestyle,Action-adventure ...  2.191406e+09   \n",
       "4                 Entertainment,Lifestyle,Technology  1.731833e+09   \n",
       "\n",
       "   Boost Index  ...         Views    Views Avg.    Avg. 1 Day   Avg. 3 Day  \\\n",
       "0           83  ...  195660744416  2.095329e+06  1.522448e+05  2134569.625   \n",
       "1           63  ...  133025325473  7.027126e+07  1.837916e+06  1837916.000   \n",
       "2           79  ...  121741739317  1.095729e+05           NaN   586040.000   \n",
       "3           88  ...   28424113942  7.718345e+06           NaN          NaN   \n",
       "4           60  ...   16242634269  9.876250e+07           NaN          NaN   \n",
       "\n",
       "     Avg. 7 Day   Avg. 14 Day   Avg. 30 day   Avg. 60 day   Comments Avg  \\\n",
       "0  1.809830e+06  2.306178e+06  1.676330e+06  2.295416e+06    4493.984146   \n",
       "1  4.891832e+06  7.052576e+06  1.265433e+07  1.572284e+07     146.700252   \n",
       "2  2.801276e+05  3.437881e+05  3.536019e+05  3.220336e+05      76.244316   \n",
       "3  3.497395e+06  3.094440e+06  3.620274e+06  4.454120e+06   35839.781347   \n",
       "4  2.994102e+07  2.994102e+07  2.994102e+07  5.343473e+07  113432.373684   \n",
       "\n",
       "               Youtube Link  \n",
       "0  UCq-Fj5jknLsUf-MWSy4_brA  \n",
       "1  UCbCmjCuTUZos6Inko4u57UQ  \n",
       "2  UCpEhnqL0y41EpW2TvWAHD7Q  \n",
       "3  UC-lHJZR3Gqxm24_Vd_AJ5Yw  \n",
       "4  UCX6OQ3DkcsbYNE6H8uQQuVA  \n",
       "\n",
       "[5 rows x 22 columns]"
      ]
     },
     "execution_count": 644,
     "metadata": {},
     "output_type": "execute_result"
    }
   ],
   "source": [
    "youtubers_df.head()"
   ]
  },
  {
   "cell_type": "code",
   "execution_count": 645,
   "id": "0345bc04-4c5f-4497-812b-ae8674a54b44",
   "metadata": {},
   "outputs": [
    {
     "data": {
      "text/plain": [
       "(857, 22)"
      ]
     },
     "execution_count": 645,
     "metadata": {},
     "output_type": "execute_result"
    }
   ],
   "source": [
    "youtubers_df.shape"
   ]
  },
  {
   "cell_type": "code",
   "execution_count": 737,
   "id": "e60998fe-45ca-4272-a3c7-e9f403f255ee",
   "metadata": {},
   "outputs": [
    {
     "data": {
      "text/plain": [
       "Index(['Country', 'Channel Name', 'Category', 'Main Video Category',\n",
       "       'username', 'followers', 'Main topic', 'More topics', 'Likes',\n",
       "       'Boost Index', 'Engagement Rate', 'Engagement Rate 60days', 'Views',\n",
       "       'Views Avg.', 'Avg. 1 Day', 'Avg. 3 Day', 'Avg. 7 Day', 'Avg. 14 Day',\n",
       "       'Avg. 30 day', 'Avg. 60 day', 'Comments Avg', 'Youtube Link', 'poplery',\n",
       "       'poplery1'],\n",
       "      dtype='object')"
      ]
     },
     "execution_count": 737,
     "metadata": {},
     "output_type": "execute_result"
    }
   ],
   "source": [
    "youtubers_df.columns"
   ]
  },
  {
   "cell_type": "markdown",
   "id": "47a3acb6-896f-4f51-a8bc-28ca32846105",
   "metadata": {},
   "source": [
    "## 1.2 Dropping repeating duplicate rows"
   ]
  },
  {
   "cell_type": "markdown",
   "id": "ae692f10-94d2-4578-b267-1cc0f645fbfc",
   "metadata": {},
   "source": [
    "### <span style=\"color:blue\">We have a lot of repeating lines, so we removed all the duplicate lines</span>\n",
    "\n"
   ]
  },
  {
   "cell_type": "code",
   "execution_count": 646,
   "id": "d9a61aa7-0ba4-4a66-a1a6-51f8aae0202b",
   "metadata": {},
   "outputs": [
    {
     "data": {
      "text/html": [
       "<div>\n",
       "<style scoped>\n",
       "    .dataframe tbody tr th:only-of-type {\n",
       "        vertical-align: middle;\n",
       "    }\n",
       "\n",
       "    .dataframe tbody tr th {\n",
       "        vertical-align: top;\n",
       "    }\n",
       "\n",
       "    .dataframe thead th {\n",
       "        text-align: right;\n",
       "    }\n",
       "</style>\n",
       "<table border=\"1\" class=\"dataframe\">\n",
       "  <thead>\n",
       "    <tr style=\"text-align: right;\">\n",
       "      <th></th>\n",
       "      <th>Country</th>\n",
       "      <th>Channel Name</th>\n",
       "      <th>Category</th>\n",
       "      <th>Main Video Category</th>\n",
       "      <th>username</th>\n",
       "      <th>followers</th>\n",
       "      <th>Main topic</th>\n",
       "      <th>More topics</th>\n",
       "      <th>Likes</th>\n",
       "      <th>Boost Index</th>\n",
       "      <th>...</th>\n",
       "      <th>Views</th>\n",
       "      <th>Views Avg.</th>\n",
       "      <th>Avg. 1 Day</th>\n",
       "      <th>Avg. 3 Day</th>\n",
       "      <th>Avg. 7 Day</th>\n",
       "      <th>Avg. 14 Day</th>\n",
       "      <th>Avg. 30 day</th>\n",
       "      <th>Avg. 60 day</th>\n",
       "      <th>Comments Avg</th>\n",
       "      <th>Youtube Link</th>\n",
       "    </tr>\n",
       "  </thead>\n",
       "  <tbody>\n",
       "    <tr>\n",
       "      <th>0</th>\n",
       "      <td>IN</td>\n",
       "      <td>T-Series</td>\n",
       "      <td>Gaming &amp; Apps</td>\n",
       "      <td>Music</td>\n",
       "      <td>T-Series</td>\n",
       "      <td>220000000</td>\n",
       "      <td>Music of Asia</td>\n",
       "      <td>Entertainment,Music of Asia,Music,Movies</td>\n",
       "      <td>1.602680e+09</td>\n",
       "      <td>83</td>\n",
       "      <td>...</td>\n",
       "      <td>195660744416</td>\n",
       "      <td>2.095329e+06</td>\n",
       "      <td>1.522448e+05</td>\n",
       "      <td>2.134570e+06</td>\n",
       "      <td>1.809830e+06</td>\n",
       "      <td>2.306178e+06</td>\n",
       "      <td>1.676330e+06</td>\n",
       "      <td>2.295416e+06</td>\n",
       "      <td>4493.984146</td>\n",
       "      <td>UCq-Fj5jknLsUf-MWSy4_brA</td>\n",
       "    </tr>\n",
       "    <tr>\n",
       "      <th>1</th>\n",
       "      <td>US</td>\n",
       "      <td>ABCkidTV - Nursery Rhymes</td>\n",
       "      <td>Gaming &amp; Apps</td>\n",
       "      <td>Education</td>\n",
       "      <td>ABCkidTV - Nursery Rhymes</td>\n",
       "      <td>138000000</td>\n",
       "      <td>Movies</td>\n",
       "      <td>Entertainment,Music,Movies</td>\n",
       "      <td>2.209901e+08</td>\n",
       "      <td>63</td>\n",
       "      <td>...</td>\n",
       "      <td>133025325473</td>\n",
       "      <td>7.027126e+07</td>\n",
       "      <td>1.837916e+06</td>\n",
       "      <td>1.837916e+06</td>\n",
       "      <td>4.891832e+06</td>\n",
       "      <td>7.052576e+06</td>\n",
       "      <td>1.265433e+07</td>\n",
       "      <td>1.572284e+07</td>\n",
       "      <td>146.700252</td>\n",
       "      <td>UCbCmjCuTUZos6Inko4u57UQ</td>\n",
       "    </tr>\n",
       "    <tr>\n",
       "      <th>2</th>\n",
       "      <td>IN</td>\n",
       "      <td>SET India</td>\n",
       "      <td>Gaming &amp; Apps</td>\n",
       "      <td>Shows</td>\n",
       "      <td>SET India</td>\n",
       "      <td>137000000</td>\n",
       "      <td>Movies</td>\n",
       "      <td>Entertainment,TV shows,Music,Movies</td>\n",
       "      <td>1.748752e+08</td>\n",
       "      <td>79</td>\n",
       "      <td>...</td>\n",
       "      <td>121741739317</td>\n",
       "      <td>1.095729e+05</td>\n",
       "      <td>NaN</td>\n",
       "      <td>5.860400e+05</td>\n",
       "      <td>2.801276e+05</td>\n",
       "      <td>3.437881e+05</td>\n",
       "      <td>3.536019e+05</td>\n",
       "      <td>3.220336e+05</td>\n",
       "      <td>76.244316</td>\n",
       "      <td>UCpEhnqL0y41EpW2TvWAHD7Q</td>\n",
       "    </tr>\n",
       "    <tr>\n",
       "      <th>3</th>\n",
       "      <td>US</td>\n",
       "      <td>PewDiePie</td>\n",
       "      <td>Gaming &amp; Apps</td>\n",
       "      <td>Gaming</td>\n",
       "      <td>PewDiePie</td>\n",
       "      <td>111000000</td>\n",
       "      <td>Lifestyle</td>\n",
       "      <td>Gaming,Action game,Lifestyle,Action-adventure ...</td>\n",
       "      <td>2.191406e+09</td>\n",
       "      <td>88</td>\n",
       "      <td>...</td>\n",
       "      <td>28424113942</td>\n",
       "      <td>7.718345e+06</td>\n",
       "      <td>NaN</td>\n",
       "      <td>NaN</td>\n",
       "      <td>3.497395e+06</td>\n",
       "      <td>3.094440e+06</td>\n",
       "      <td>3.620274e+06</td>\n",
       "      <td>4.454120e+06</td>\n",
       "      <td>35839.781347</td>\n",
       "      <td>UC-lHJZR3Gqxm24_Vd_AJ5Yw</td>\n",
       "    </tr>\n",
       "    <tr>\n",
       "      <th>4</th>\n",
       "      <td>US</td>\n",
       "      <td>MrBeast</td>\n",
       "      <td>Gaming &amp; Apps</td>\n",
       "      <td>Entertainment</td>\n",
       "      <td>MrBeast</td>\n",
       "      <td>98100000</td>\n",
       "      <td>Lifestyle</td>\n",
       "      <td>Entertainment,Lifestyle,Technology</td>\n",
       "      <td>1.731833e+09</td>\n",
       "      <td>60</td>\n",
       "      <td>...</td>\n",
       "      <td>16242634269</td>\n",
       "      <td>9.876250e+07</td>\n",
       "      <td>NaN</td>\n",
       "      <td>NaN</td>\n",
       "      <td>2.994102e+07</td>\n",
       "      <td>2.994102e+07</td>\n",
       "      <td>2.994102e+07</td>\n",
       "      <td>5.343473e+07</td>\n",
       "      <td>113432.373684</td>\n",
       "      <td>UCX6OQ3DkcsbYNE6H8uQQuVA</td>\n",
       "    </tr>\n",
       "    <tr>\n",
       "      <th>...</th>\n",
       "      <td>...</td>\n",
       "      <td>...</td>\n",
       "      <td>...</td>\n",
       "      <td>...</td>\n",
       "      <td>...</td>\n",
       "      <td>...</td>\n",
       "      <td>...</td>\n",
       "      <td>...</td>\n",
       "      <td>...</td>\n",
       "      <td>...</td>\n",
       "      <td>...</td>\n",
       "      <td>...</td>\n",
       "      <td>...</td>\n",
       "      <td>...</td>\n",
       "      <td>...</td>\n",
       "      <td>...</td>\n",
       "      <td>...</td>\n",
       "      <td>...</td>\n",
       "      <td>...</td>\n",
       "      <td>...</td>\n",
       "      <td>...</td>\n",
       "    </tr>\n",
       "    <tr>\n",
       "      <th>652</th>\n",
       "      <td>NaN</td>\n",
       "      <td>1theK (원더케이)</td>\n",
       "      <td>Music</td>\n",
       "      <td>Music</td>\n",
       "      <td>1theK (원더케이)</td>\n",
       "      <td>24100000</td>\n",
       "      <td>Pop music</td>\n",
       "      <td>Music of Asia,Music,Pop music</td>\n",
       "      <td>2.102143e+08</td>\n",
       "      <td>74</td>\n",
       "      <td>...</td>\n",
       "      <td>22431615067</td>\n",
       "      <td>5.949351e+04</td>\n",
       "      <td>6.996300e+04</td>\n",
       "      <td>4.261843e+04</td>\n",
       "      <td>1.508900e+05</td>\n",
       "      <td>1.141193e+05</td>\n",
       "      <td>1.361403e+05</td>\n",
       "      <td>8.631710e+04</td>\n",
       "      <td>810.979818</td>\n",
       "      <td>UCweOkPb1wVVH0Q0Tlj4a5Pw</td>\n",
       "    </tr>\n",
       "    <tr>\n",
       "      <th>653</th>\n",
       "      <td>US</td>\n",
       "      <td>Post Malone</td>\n",
       "      <td>Gaming &amp; Apps</td>\n",
       "      <td>Music</td>\n",
       "      <td>Post Malone</td>\n",
       "      <td>24000000</td>\n",
       "      <td>Music</td>\n",
       "      <td>Music,Hip hop music,Pop music</td>\n",
       "      <td>1.647143e+07</td>\n",
       "      <td>57</td>\n",
       "      <td>...</td>\n",
       "      <td>12252459767</td>\n",
       "      <td>1.448346e+07</td>\n",
       "      <td>NaN</td>\n",
       "      <td>NaN</td>\n",
       "      <td>NaN</td>\n",
       "      <td>1.066810e+05</td>\n",
       "      <td>1.860830e+06</td>\n",
       "      <td>1.310594e+06</td>\n",
       "      <td>11098.637931</td>\n",
       "      <td>UCeLHszkByNZtPKcaVXOCOQQ</td>\n",
       "    </tr>\n",
       "    <tr>\n",
       "      <th>654</th>\n",
       "      <td>IN</td>\n",
       "      <td>Amit Bhadana</td>\n",
       "      <td>NaN</td>\n",
       "      <td>Entertainment</td>\n",
       "      <td>Amit Bhadana</td>\n",
       "      <td>24000000</td>\n",
       "      <td>Entertainment</td>\n",
       "      <td>Music,Movies,Entertainment</td>\n",
       "      <td>1.139831e+08</td>\n",
       "      <td>60</td>\n",
       "      <td>...</td>\n",
       "      <td>2227021034</td>\n",
       "      <td>2.983444e+07</td>\n",
       "      <td>0.000000e+00</td>\n",
       "      <td>0.000000e+00</td>\n",
       "      <td>0.000000e+00</td>\n",
       "      <td>0.000000e+00</td>\n",
       "      <td>0.000000e+00</td>\n",
       "      <td>0.000000e+00</td>\n",
       "      <td>100248.500000</td>\n",
       "      <td>UC_vcKmg67vjMP7ciLnSxSHQ</td>\n",
       "    </tr>\n",
       "    <tr>\n",
       "      <th>655</th>\n",
       "      <td>US</td>\n",
       "      <td>James Charles</td>\n",
       "      <td>Gaming &amp; Apps</td>\n",
       "      <td>Entertainment</td>\n",
       "      <td>James Charles</td>\n",
       "      <td>24000000</td>\n",
       "      <td>Lifestyle</td>\n",
       "      <td>Lifestyle</td>\n",
       "      <td>1.827409e+08</td>\n",
       "      <td>61</td>\n",
       "      <td>...</td>\n",
       "      <td>3664440993</td>\n",
       "      <td>1.281032e+07</td>\n",
       "      <td>NaN</td>\n",
       "      <td>NaN</td>\n",
       "      <td>6.875610e+05</td>\n",
       "      <td>6.216617e+05</td>\n",
       "      <td>6.195134e+05</td>\n",
       "      <td>8.354377e+05</td>\n",
       "      <td>38414.745174</td>\n",
       "      <td>UCucot-Zp428OwkyRm2I7v2Q</td>\n",
       "    </tr>\n",
       "    <tr>\n",
       "      <th>656</th>\n",
       "      <td>US</td>\n",
       "      <td>Netflix</td>\n",
       "      <td>None</td>\n",
       "      <td>Entertainment</td>\n",
       "      <td>Netflix</td>\n",
       "      <td>24000000</td>\n",
       "      <td>TV shows</td>\n",
       "      <td>Entertainment,TV shows,Movies</td>\n",
       "      <td>1.068201e+08</td>\n",
       "      <td>63</td>\n",
       "      <td>...</td>\n",
       "      <td>5551273418</td>\n",
       "      <td>6.917575e+05</td>\n",
       "      <td>2.178600e+04</td>\n",
       "      <td>8.632850e+04</td>\n",
       "      <td>2.734545e+05</td>\n",
       "      <td>2.780231e+05</td>\n",
       "      <td>6.761672e+05</td>\n",
       "      <td>1.004604e+06</td>\n",
       "      <td>1311.491067</td>\n",
       "      <td>UCWOA1ZGywLbqmigxE4Qlvuw</td>\n",
       "    </tr>\n",
       "  </tbody>\n",
       "</table>\n",
       "<p>200 rows × 22 columns</p>\n",
       "</div>"
      ],
      "text/plain": [
       "    Country               Channel Name       Category Main Video Category  \\\n",
       "0        IN                   T-Series  Gaming & Apps               Music   \n",
       "1        US  ABCkidTV - Nursery Rhymes  Gaming & Apps           Education   \n",
       "2        IN                  SET India  Gaming & Apps               Shows   \n",
       "3        US                  PewDiePie  Gaming & Apps              Gaming   \n",
       "4        US                    MrBeast  Gaming & Apps       Entertainment   \n",
       "..      ...                        ...            ...                 ...   \n",
       "652     NaN               1theK (원더케이)          Music               Music   \n",
       "653      US                Post Malone  Gaming & Apps               Music   \n",
       "654      IN               Amit Bhadana            NaN       Entertainment   \n",
       "655      US              James Charles  Gaming & Apps       Entertainment   \n",
       "656      US                    Netflix           None       Entertainment   \n",
       "\n",
       "                      username  followers     Main topic  \\\n",
       "0                     T-Series  220000000  Music of Asia   \n",
       "1    ABCkidTV - Nursery Rhymes  138000000         Movies   \n",
       "2                    SET India  137000000         Movies   \n",
       "3                    PewDiePie  111000000      Lifestyle   \n",
       "4                      MrBeast   98100000      Lifestyle   \n",
       "..                         ...        ...            ...   \n",
       "652               1theK (원더케이)   24100000      Pop music   \n",
       "653                Post Malone   24000000          Music   \n",
       "654               Amit Bhadana   24000000  Entertainment   \n",
       "655              James Charles   24000000      Lifestyle   \n",
       "656                    Netflix   24000000       TV shows   \n",
       "\n",
       "                                           More topics         Likes  \\\n",
       "0             Entertainment,Music of Asia,Music,Movies  1.602680e+09   \n",
       "1                           Entertainment,Music,Movies  2.209901e+08   \n",
       "2                  Entertainment,TV shows,Music,Movies  1.748752e+08   \n",
       "3    Gaming,Action game,Lifestyle,Action-adventure ...  2.191406e+09   \n",
       "4                   Entertainment,Lifestyle,Technology  1.731833e+09   \n",
       "..                                                 ...           ...   \n",
       "652                      Music of Asia,Music,Pop music  2.102143e+08   \n",
       "653                      Music,Hip hop music,Pop music  1.647143e+07   \n",
       "654                         Music,Movies,Entertainment  1.139831e+08   \n",
       "655                                          Lifestyle  1.827409e+08   \n",
       "656                      Entertainment,TV shows,Movies  1.068201e+08   \n",
       "\n",
       "     Boost Index  ...         Views    Views Avg.    Avg. 1 Day    Avg. 3 Day  \\\n",
       "0             83  ...  195660744416  2.095329e+06  1.522448e+05  2.134570e+06   \n",
       "1             63  ...  133025325473  7.027126e+07  1.837916e+06  1.837916e+06   \n",
       "2             79  ...  121741739317  1.095729e+05           NaN  5.860400e+05   \n",
       "3             88  ...   28424113942  7.718345e+06           NaN           NaN   \n",
       "4             60  ...   16242634269  9.876250e+07           NaN           NaN   \n",
       "..           ...  ...           ...           ...           ...           ...   \n",
       "652           74  ...   22431615067  5.949351e+04  6.996300e+04  4.261843e+04   \n",
       "653           57  ...   12252459767  1.448346e+07           NaN           NaN   \n",
       "654           60  ...    2227021034  2.983444e+07  0.000000e+00  0.000000e+00   \n",
       "655           61  ...    3664440993  1.281032e+07           NaN           NaN   \n",
       "656           63  ...    5551273418  6.917575e+05  2.178600e+04  8.632850e+04   \n",
       "\n",
       "       Avg. 7 Day   Avg. 14 Day   Avg. 30 day   Avg. 60 day   Comments Avg  \\\n",
       "0    1.809830e+06  2.306178e+06  1.676330e+06  2.295416e+06    4493.984146   \n",
       "1    4.891832e+06  7.052576e+06  1.265433e+07  1.572284e+07     146.700252   \n",
       "2    2.801276e+05  3.437881e+05  3.536019e+05  3.220336e+05      76.244316   \n",
       "3    3.497395e+06  3.094440e+06  3.620274e+06  4.454120e+06   35839.781347   \n",
       "4    2.994102e+07  2.994102e+07  2.994102e+07  5.343473e+07  113432.373684   \n",
       "..            ...           ...           ...           ...            ...   \n",
       "652  1.508900e+05  1.141193e+05  1.361403e+05  8.631710e+04     810.979818   \n",
       "653           NaN  1.066810e+05  1.860830e+06  1.310594e+06   11098.637931   \n",
       "654  0.000000e+00  0.000000e+00  0.000000e+00  0.000000e+00  100248.500000   \n",
       "655  6.875610e+05  6.216617e+05  6.195134e+05  8.354377e+05   38414.745174   \n",
       "656  2.734545e+05  2.780231e+05  6.761672e+05  1.004604e+06    1311.491067   \n",
       "\n",
       "                 Youtube Link  \n",
       "0    UCq-Fj5jknLsUf-MWSy4_brA  \n",
       "1    UCbCmjCuTUZos6Inko4u57UQ  \n",
       "2    UCpEhnqL0y41EpW2TvWAHD7Q  \n",
       "3    UC-lHJZR3Gqxm24_Vd_AJ5Yw  \n",
       "4    UCX6OQ3DkcsbYNE6H8uQQuVA  \n",
       "..                        ...  \n",
       "652  UCweOkPb1wVVH0Q0Tlj4a5Pw  \n",
       "653  UCeLHszkByNZtPKcaVXOCOQQ  \n",
       "654  UC_vcKmg67vjMP7ciLnSxSHQ  \n",
       "655  UCucot-Zp428OwkyRm2I7v2Q  \n",
       "656  UCWOA1ZGywLbqmigxE4Qlvuw  \n",
       "\n",
       "[200 rows x 22 columns]"
      ]
     },
     "execution_count": 646,
     "metadata": {},
     "output_type": "execute_result"
    }
   ],
   "source": [
    "youtubers_df.drop_duplicates(subset=\"Channel Name\",inplace=True)\n",
    "youtubers_df"
   ]
  },
  {
   "cell_type": "markdown",
   "id": "f1e0e973-b9e2-4822-bc8f-a22075335355",
   "metadata": {},
   "source": [
    "## 1.3 Displaying the updated data\n",
    "### The number of rows and columns"
   ]
  },
  {
   "cell_type": "code",
   "execution_count": 647,
   "id": "eb5a648f-8a46-460e-9952-b11ebb334972",
   "metadata": {},
   "outputs": [
    {
     "data": {
      "text/plain": [
       "(200, 22)"
      ]
     },
     "execution_count": 647,
     "metadata": {},
     "output_type": "execute_result"
    }
   ],
   "source": [
    "youtubers_df.shape"
   ]
  },
  {
   "cell_type": "markdown",
   "id": "7232847f-8f00-4240-a433-ae19e9efbc86",
   "metadata": {},
   "source": [
    "### The data frame type by columns"
   ]
  },
  {
   "cell_type": "code",
   "execution_count": 648,
   "id": "6a9ec19d-7052-487f-9883-f556f72a69a9",
   "metadata": {},
   "outputs": [
    {
     "data": {
      "text/plain": [
       "Country                    object\n",
       "Channel Name               object\n",
       "Category                   object\n",
       "Main Video Category        object\n",
       "username                   object\n",
       "followers                   int64\n",
       "Main topic                 object\n",
       "More topics                object\n",
       "Likes                     float64\n",
       "Boost Index                 int64\n",
       "Engagement Rate           float64\n",
       "Engagement Rate 60days    float64\n",
       "Views                       int64\n",
       "Views Avg.                float64\n",
       "Avg. 1 Day                float64\n",
       "Avg. 3 Day                float64\n",
       "Avg. 7 Day                float64\n",
       "Avg. 14 Day               float64\n",
       "Avg. 30 day               float64\n",
       "Avg. 60 day               float64\n",
       "Comments Avg              float64\n",
       "Youtube Link               object\n",
       "dtype: object"
      ]
     },
     "execution_count": 648,
     "metadata": {},
     "output_type": "execute_result"
    }
   ],
   "source": [
    "youtubers_df.dtypes"
   ]
  },
  {
   "cell_type": "markdown",
   "id": "efb9e23b-cdf0-4d2a-ab06-29b12a31c8b3",
   "metadata": {},
   "source": [
    "# Question - How many followers would you think the biggest YouTuber has?"
   ]
  },
  {
   "cell_type": "code",
   "execution_count": 649,
   "id": "fba27f9b-6f14-49d4-a349-208945a0600a",
   "metadata": {},
   "outputs": [
    {
     "data": {
      "text/html": [
       "<div>\n",
       "<style scoped>\n",
       "    .dataframe tbody tr th:only-of-type {\n",
       "        vertical-align: middle;\n",
       "    }\n",
       "\n",
       "    .dataframe tbody tr th {\n",
       "        vertical-align: top;\n",
       "    }\n",
       "\n",
       "    .dataframe thead th {\n",
       "        text-align: right;\n",
       "    }\n",
       "</style>\n",
       "<table border=\"1\" class=\"dataframe\">\n",
       "  <thead>\n",
       "    <tr style=\"text-align: right;\">\n",
       "      <th></th>\n",
       "      <th>followers</th>\n",
       "    </tr>\n",
       "  </thead>\n",
       "  <tbody>\n",
       "    <tr>\n",
       "      <th>0</th>\n",
       "      <td>220000000</td>\n",
       "    </tr>\n",
       "    <tr>\n",
       "      <th>1</th>\n",
       "      <td>138000000</td>\n",
       "    </tr>\n",
       "    <tr>\n",
       "      <th>2</th>\n",
       "      <td>137000000</td>\n",
       "    </tr>\n",
       "    <tr>\n",
       "      <th>3</th>\n",
       "      <td>111000000</td>\n",
       "    </tr>\n",
       "    <tr>\n",
       "      <th>4</th>\n",
       "      <td>98100000</td>\n",
       "    </tr>\n",
       "  </tbody>\n",
       "</table>\n",
       "</div>"
      ],
      "text/plain": [
       "   followers\n",
       "0  220000000\n",
       "1  138000000\n",
       "2  137000000\n",
       "3  111000000\n",
       "4   98100000"
      ]
     },
     "execution_count": 649,
     "metadata": {},
     "output_type": "execute_result"
    }
   ],
   "source": [
    "youtubers_df_top=youtubers_df[[\"followers\"]].sort_values(\"followers\",ascending = False)\n",
    "youtubers_df_top.head()"
   ]
  },
  {
   "cell_type": "markdown",
   "id": "6e2bbd80-4ffb-4d75-9a61-6ab1672ce964",
   "metadata": {},
   "source": [
    "--------\n",
    "### <span style=\"color:green\"> We can see that the biggest YouTuber in the world has exposure to hundreds of millionsthe world's population</span>\n",
    "--------"
   ]
  },
  {
   "cell_type": "markdown",
   "id": "5799af43-873b-4b8d-94a9-93bd8a762289",
   "metadata": {},
   "source": [
    "#  2. Presentation of YouTubers by country"
   ]
  },
  {
   "cell_type": "markdown",
   "id": "c75bf265-fff0-4c64-8619-f064096d5ab3",
   "metadata": {},
   "source": [
    "### The number of YouTubers by top ten country"
   ]
  },
  {
   "cell_type": "code",
   "execution_count": 650,
   "id": "0d107d83-84f9-4ac0-82db-165fa9f3e12f",
   "metadata": {},
   "outputs": [
    {
     "data": {
      "text/html": [
       "<div>\n",
       "<style scoped>\n",
       "    .dataframe tbody tr th:only-of-type {\n",
       "        vertical-align: middle;\n",
       "    }\n",
       "\n",
       "    .dataframe tbody tr th {\n",
       "        vertical-align: top;\n",
       "    }\n",
       "\n",
       "    .dataframe thead th {\n",
       "        text-align: right;\n",
       "    }\n",
       "</style>\n",
       "<table border=\"1\" class=\"dataframe\">\n",
       "  <thead>\n",
       "    <tr style=\"text-align: right;\">\n",
       "      <th></th>\n",
       "      <th>Country</th>\n",
       "      <th>Channel Name</th>\n",
       "    </tr>\n",
       "  </thead>\n",
       "  <tbody>\n",
       "    <tr>\n",
       "      <th>0</th>\n",
       "      <td>US</td>\n",
       "      <td>67</td>\n",
       "    </tr>\n",
       "    <tr>\n",
       "      <th>1</th>\n",
       "      <td>IN</td>\n",
       "      <td>45</td>\n",
       "    </tr>\n",
       "    <tr>\n",
       "      <th>2</th>\n",
       "      <td>BR</td>\n",
       "      <td>8</td>\n",
       "    </tr>\n",
       "    <tr>\n",
       "      <th>3</th>\n",
       "      <td>CA</td>\n",
       "      <td>4</td>\n",
       "    </tr>\n",
       "    <tr>\n",
       "      <th>4</th>\n",
       "      <td>KR</td>\n",
       "      <td>3</td>\n",
       "    </tr>\n",
       "    <tr>\n",
       "      <th>5</th>\n",
       "      <td>TH</td>\n",
       "      <td>3</td>\n",
       "    </tr>\n",
       "    <tr>\n",
       "      <th>6</th>\n",
       "      <td>CO</td>\n",
       "      <td>3</td>\n",
       "    </tr>\n",
       "    <tr>\n",
       "      <th>7</th>\n",
       "      <td>MX</td>\n",
       "      <td>3</td>\n",
       "    </tr>\n",
       "    <tr>\n",
       "      <th>8</th>\n",
       "      <td>ID</td>\n",
       "      <td>3</td>\n",
       "    </tr>\n",
       "    <tr>\n",
       "      <th>9</th>\n",
       "      <td>IE</td>\n",
       "      <td>3</td>\n",
       "    </tr>\n",
       "  </tbody>\n",
       "</table>\n",
       "</div>"
      ],
      "text/plain": [
       "  Country  Channel Name\n",
       "0      US            67\n",
       "1      IN            45\n",
       "2      BR             8\n",
       "3      CA             4\n",
       "4      KR             3\n",
       "5      TH             3\n",
       "6      CO             3\n",
       "7      MX             3\n",
       "8      ID             3\n",
       "9      IE             3"
      ]
     },
     "execution_count": 650,
     "metadata": {},
     "output_type": "execute_result"
    }
   ],
   "source": [
    "YouTube_Country=youtubers_df.groupby(['Country'])[[\"Channel Name\"]].count().sort_values('Channel Name',ascending=False).head(10).reset_index()\n",
    "YouTube_Country"
   ]
  },
  {
   "cell_type": "code",
   "execution_count": 651,
   "id": "41d93cd8-c793-403e-9c85-6754e6be59cf",
   "metadata": {},
   "outputs": [
    {
     "data": {
      "image/png": "[encoded data removed]",
      "text/plain": [
       "<Figure size 720x504 with 1 Axes>"
      ]
     },
     "metadata": {
      "needs_background": "light"
     },
     "output_type": "display_data"
    }
   ],
   "source": [
    "fig= plt.subplots(figsize=(10, 7))\n",
    "sns.barplot(data = YouTube_Country, x ='Country',y='Channel Name')\n",
    "plt.title(\"The number of YouTubers by countries\")\n",
    "plt.xticks(rotation=0)\n",
    "plt.show()"
   ]
  },
  {
   "cell_type": "markdown",
   "id": "69bf0cbd-f2eb-4aef-ab24-79562a955b5e",
   "metadata": {},
   "source": [
    "### <span style=\"color:green\">We see that the number of the biggest YouTubers come from the two great powers in the world - the USA and India</span>"
   ]
  },
  {
   "cell_type": "markdown",
   "id": "54e419f4-3c25-4952-ac57-4a6f4cdb48de",
   "metadata": {},
   "source": [
    "<center><img src=\"https://i-hls.com/wp-content/uploads/2015/06/13218205_m.jpg\"\n",
    "     width=\"500\"  > </center>"
   ]
  },
  {
   "cell_type": "markdown",
   "id": "7b79b206-2f54-4d10-8874-b2e6b6d0420b",
   "metadata": {},
   "source": [
    "### <span style=\"color:blue\">We will check the segmentation of all views of YouTubers from each country</span>\n"
   ]
  },
  {
   "cell_type": "code",
   "execution_count": 652,
   "id": "f9278096-5c61-4815-8c2a-ea3133632d83",
   "metadata": {},
   "outputs": [
    {
     "data": {
      "text/html": [
       "<div>\n",
       "<style scoped>\n",
       "    .dataframe tbody tr th:only-of-type {\n",
       "        vertical-align: middle;\n",
       "    }\n",
       "\n",
       "    .dataframe tbody tr th {\n",
       "        vertical-align: top;\n",
       "    }\n",
       "\n",
       "    .dataframe thead th {\n",
       "        text-align: right;\n",
       "    }\n",
       "</style>\n",
       "<table border=\"1\" class=\"dataframe\">\n",
       "  <thead>\n",
       "    <tr style=\"text-align: right;\">\n",
       "      <th></th>\n",
       "      <th>Country</th>\n",
       "      <th>Views</th>\n",
       "    </tr>\n",
       "  </thead>\n",
       "  <tbody>\n",
       "    <tr>\n",
       "      <th>0</th>\n",
       "      <td>US</td>\n",
       "      <td>1454736967907</td>\n",
       "    </tr>\n",
       "    <tr>\n",
       "      <th>1</th>\n",
       "      <td>IN</td>\n",
       "      <td>1136262522609</td>\n",
       "    </tr>\n",
       "    <tr>\n",
       "      <th>2</th>\n",
       "      <td>BR</td>\n",
       "      <td>148325367455</td>\n",
       "    </tr>\n",
       "    <tr>\n",
       "      <th>3</th>\n",
       "      <td>CA</td>\n",
       "      <td>99373546328</td>\n",
       "    </tr>\n",
       "    <tr>\n",
       "      <th>4</th>\n",
       "      <td>TH</td>\n",
       "      <td>79786876893</td>\n",
       "    </tr>\n",
       "    <tr>\n",
       "      <th>5</th>\n",
       "      <td>PH</td>\n",
       "      <td>72459532403</td>\n",
       "    </tr>\n",
       "    <tr>\n",
       "      <th>6</th>\n",
       "      <td>RU</td>\n",
       "      <td>60835980843</td>\n",
       "    </tr>\n",
       "    <tr>\n",
       "      <th>7</th>\n",
       "      <td>KR</td>\n",
       "      <td>55090630445</td>\n",
       "    </tr>\n",
       "    <tr>\n",
       "      <th>8</th>\n",
       "      <td>CO</td>\n",
       "      <td>48764643712</td>\n",
       "    </tr>\n",
       "    <tr>\n",
       "      <th>9</th>\n",
       "      <td>PR</td>\n",
       "      <td>43253670909</td>\n",
       "    </tr>\n",
       "  </tbody>\n",
       "</table>\n",
       "</div>"
      ],
      "text/plain": [
       "  Country          Views\n",
       "0      US  1454736967907\n",
       "1      IN  1136262522609\n",
       "2      BR   148325367455\n",
       "3      CA    99373546328\n",
       "4      TH    79786876893\n",
       "5      PH    72459532403\n",
       "6      RU    60835980843\n",
       "7      KR    55090630445\n",
       "8      CO    48764643712\n",
       "9      PR    43253670909"
      ]
     },
     "execution_count": 652,
     "metadata": {},
     "output_type": "execute_result"
    }
   ],
   "source": [
    "viwes_Country=youtubers_df.groupby(['Country'])[[\"Views\"]].sum().sort_values('Views',ascending=False).head(10).reset_index()\n",
    "viwes_Country"
   ]
  },
  {
   "cell_type": "code",
   "execution_count": 653,
   "id": "4880fc32-5429-4807-b634-fce07d1da5bb",
   "metadata": {},
   "outputs": [
    {
     "data": {
      "image/png": "[encoded data removed]",
      "text/plain": [
       "<Figure size 720x504 with 1 Axes>"
      ]
     },
     "metadata": {
      "needs_background": "light"
     },
     "output_type": "display_data"
    }
   ],
   "source": [
    "fig= plt.subplots(figsize=(10, 7))\n",
    "sns.barplot(data = viwes_Country, x ='Country',y='Views')\n",
    "plt.title(\"The number of viwes by countries\")\n",
    "plt.xticks(rotation=0)\n",
    "plt.show()"
   ]
  },
  {
   "cell_type": "markdown",
   "id": "80702401-0241-44ee-84fa-e0d30ec08216",
   "metadata": {},
   "source": [
    "-------\n",
    "### <span style=\"color:green\">We see that the segmentation by country of the number of YouTubers and the number of views from each country is the same. That means the USA, which has the most YouTubers, also has the most views.                                    From this we can conclude how much global influence the USA and India can have in the field of social media..</span>\n",
    "-------\n"
   ]
  },
  {
   "cell_type": "markdown",
   "id": "870d7425-45ac-4ebd-9175-94f94884a324",
   "metadata": {},
   "source": [
    "#  3.Presentation of YouTubers by number of followers"
   ]
  },
  {
   "cell_type": "markdown",
   "id": "d19b7a21-ecd6-4886-b0a7-318b810e1128",
   "metadata": {},
   "source": [
    "### Top 10 YouTubers with the most followers\n",
    "#### The number of followers is indicated in hundred millions"
   ]
  },
  {
   "cell_type": "code",
   "execution_count": 654,
   "id": "ddf83d8e-ccbf-47ab-8a34-57193f34ff8c",
   "metadata": {},
   "outputs": [
    {
     "data": {
      "text/html": [
       "<div>\n",
       "<style scoped>\n",
       "    .dataframe tbody tr th:only-of-type {\n",
       "        vertical-align: middle;\n",
       "    }\n",
       "\n",
       "    .dataframe tbody tr th {\n",
       "        vertical-align: top;\n",
       "    }\n",
       "\n",
       "    .dataframe thead th {\n",
       "        text-align: right;\n",
       "    }\n",
       "</style>\n",
       "<table border=\"1\" class=\"dataframe\">\n",
       "  <thead>\n",
       "    <tr style=\"text-align: right;\">\n",
       "      <th></th>\n",
       "      <th>Channel Name</th>\n",
       "      <th>followers</th>\n",
       "    </tr>\n",
       "  </thead>\n",
       "  <tbody>\n",
       "    <tr>\n",
       "      <th>0</th>\n",
       "      <td>T-Series</td>\n",
       "      <td>220000000</td>\n",
       "    </tr>\n",
       "    <tr>\n",
       "      <th>1</th>\n",
       "      <td>ABCkidTV - Nursery Rhymes</td>\n",
       "      <td>138000000</td>\n",
       "    </tr>\n",
       "    <tr>\n",
       "      <th>2</th>\n",
       "      <td>SET India</td>\n",
       "      <td>137000000</td>\n",
       "    </tr>\n",
       "    <tr>\n",
       "      <th>3</th>\n",
       "      <td>PewDiePie</td>\n",
       "      <td>111000000</td>\n",
       "    </tr>\n",
       "    <tr>\n",
       "      <th>4</th>\n",
       "      <td>MrBeast</td>\n",
       "      <td>98100000</td>\n",
       "    </tr>\n",
       "    <tr>\n",
       "      <th>5</th>\n",
       "      <td>Like Nastya</td>\n",
       "      <td>97300000</td>\n",
       "    </tr>\n",
       "    <tr>\n",
       "      <th>6</th>\n",
       "      <td>✿ Kids Diana Show</td>\n",
       "      <td>97200000</td>\n",
       "    </tr>\n",
       "    <tr>\n",
       "      <th>14</th>\n",
       "      <td>WWE</td>\n",
       "      <td>89400000</td>\n",
       "    </tr>\n",
       "    <tr>\n",
       "      <th>15</th>\n",
       "      <td>Zee Music Company</td>\n",
       "      <td>85500000</td>\n",
       "    </tr>\n",
       "    <tr>\n",
       "      <th>16</th>\n",
       "      <td>Vlad and Niki</td>\n",
       "      <td>83500000</td>\n",
       "    </tr>\n",
       "  </tbody>\n",
       "</table>\n",
       "</div>"
      ],
      "text/plain": [
       "                 Channel Name  followers\n",
       "0                    T-Series  220000000\n",
       "1   ABCkidTV - Nursery Rhymes  138000000\n",
       "2                   SET India  137000000\n",
       "3                   PewDiePie  111000000\n",
       "4                     MrBeast   98100000\n",
       "5                 Like Nastya   97300000\n",
       "6           ✿ Kids Diana Show   97200000\n",
       "14                        WWE   89400000\n",
       "15          Zee Music Company   85500000\n",
       "16              Vlad and Niki   83500000"
      ]
     },
     "metadata": {},
     "output_type": "display_data"
    }
   ],
   "source": [
    "Top_youtubers=youtubers_df[['Channel Name','followers']].head(10).sort_values('followers',ascending=False)\n",
    "df=pd.DataFrame(Top_youtubers)\n",
    "display(df.drop_duplicates())"
   ]
  },
  {
   "cell_type": "code",
   "execution_count": 655,
   "id": "6f71e2e7-bb52-43fb-a319-330285917552",
   "metadata": {},
   "outputs": [
    {
     "data": {
      "image/png": "[encoded data removed]",
      "text/plain": [
       "<Figure size 576x432 with 1 Axes>"
      ]
     },
     "metadata": {
      "needs_background": "light"
     },
     "output_type": "display_data"
    }
   ],
   "source": [
    "fig= plt.subplots(figsize=(8, 6))\n",
    "plt.title(\"Top 10 YouTubers with the most followers\")\n",
    "sns.barplot(data =Top_youtubers , x='Channel Name', y='followers')\n",
    "plt.xticks(rotation=90)\n",
    "plt.show()"
   ]
  },
  {
   "cell_type": "markdown",
   "id": "50185202-7227-4cb3-a197-b85ce9273e3e",
   "metadata": {},
   "source": [
    "### <span style=\"color:blue\">Now we will check match  if the YouTuber who has the most followers also has the most views, likes and average comments</span>\n"
   ]
  },
  {
   "cell_type": "code",
   "execution_count": 656,
   "id": "b94a1bc4-9fb0-47c7-8cee-aedbfc79cbc6",
   "metadata": {},
   "outputs": [
    {
     "data": {
      "text/html": [
       "<div>\n",
       "<style scoped>\n",
       "    .dataframe tbody tr th:only-of-type {\n",
       "        vertical-align: middle;\n",
       "    }\n",
       "\n",
       "    .dataframe tbody tr th {\n",
       "        vertical-align: top;\n",
       "    }\n",
       "\n",
       "    .dataframe thead th {\n",
       "        text-align: right;\n",
       "    }\n",
       "</style>\n",
       "<table border=\"1\" class=\"dataframe\">\n",
       "  <thead>\n",
       "    <tr style=\"text-align: right;\">\n",
       "      <th></th>\n",
       "      <th>Channel Name</th>\n",
       "      <th>Likes</th>\n",
       "    </tr>\n",
       "  </thead>\n",
       "  <tbody>\n",
       "    <tr>\n",
       "      <th>3</th>\n",
       "      <td>PewDiePie</td>\n",
       "      <td>2.191406e+09</td>\n",
       "    </tr>\n",
       "    <tr>\n",
       "      <th>4</th>\n",
       "      <td>MrBeast</td>\n",
       "      <td>1.731833e+09</td>\n",
       "    </tr>\n",
       "    <tr>\n",
       "      <th>0</th>\n",
       "      <td>T-Series</td>\n",
       "      <td>1.602680e+09</td>\n",
       "    </tr>\n",
       "    <tr>\n",
       "      <th>1</th>\n",
       "      <td>ABCkidTV - Nursery Rhymes</td>\n",
       "      <td>2.209901e+08</td>\n",
       "    </tr>\n",
       "    <tr>\n",
       "      <th>2</th>\n",
       "      <td>SET India</td>\n",
       "      <td>1.748752e+08</td>\n",
       "    </tr>\n",
       "  </tbody>\n",
       "</table>\n",
       "</div>"
      ],
      "text/plain": [
       "                Channel Name         Likes\n",
       "3                  PewDiePie  2.191406e+09\n",
       "4                    MrBeast  1.731833e+09\n",
       "0                   T-Series  1.602680e+09\n",
       "1  ABCkidTV - Nursery Rhymes  2.209901e+08\n",
       "2                  SET India  1.748752e+08"
      ]
     },
     "metadata": {},
     "output_type": "display_data"
    }
   ],
   "source": [
    "Top_liked=youtubers_df[['Channel Name','Likes']].head(5).sort_values('Likes',ascending=False)\n",
    "df=pd.DataFrame(Top_liked)\n",
    "display(df.drop_duplicates())"
   ]
  },
  {
   "cell_type": "code",
   "execution_count": 745,
   "id": "07bffe5f-0dca-4dab-b4b6-10737b90b786",
   "metadata": {},
   "outputs": [
    {
     "data": {
      "image/png": "[encoded data removed]",
      "text/plain": [
       "<Figure size 720x576 with 1 Axes>"
      ]
     },
     "metadata": {},
     "output_type": "display_data"
    }
   ],
   "source": [
    "myexplode = [0.2,0,0,0,0]\n",
    "fig = plt.subplots(figsize=(10, 8))\n",
    "plt.pie(Top_liked['Likes'], labels=Top_liked['Channel Name'],autopct='%.0f %%', explode = myexplode, shadow=True, rotatelabels='true');\n"
   ]
  },
  {
   "cell_type": "code",
   "execution_count": 658,
   "id": "5069c962-53ea-4ee1-9f5a-ea17f34a0a66",
   "metadata": {},
   "outputs": [
    {
     "data": {
      "text/html": [
       "<div>\n",
       "<style scoped>\n",
       "    .dataframe tbody tr th:only-of-type {\n",
       "        vertical-align: middle;\n",
       "    }\n",
       "\n",
       "    .dataframe tbody tr th {\n",
       "        vertical-align: top;\n",
       "    }\n",
       "\n",
       "    .dataframe thead th {\n",
       "        text-align: right;\n",
       "    }\n",
       "</style>\n",
       "<table border=\"1\" class=\"dataframe\">\n",
       "  <thead>\n",
       "    <tr style=\"text-align: right;\">\n",
       "      <th></th>\n",
       "      <th>Channel Name</th>\n",
       "      <th>Views</th>\n",
       "    </tr>\n",
       "  </thead>\n",
       "  <tbody>\n",
       "    <tr>\n",
       "      <th>0</th>\n",
       "      <td>T-Series</td>\n",
       "      <td>195660744416</td>\n",
       "    </tr>\n",
       "    <tr>\n",
       "      <th>1</th>\n",
       "      <td>ABCkidTV - Nursery Rhymes</td>\n",
       "      <td>133025325473</td>\n",
       "    </tr>\n",
       "    <tr>\n",
       "      <th>2</th>\n",
       "      <td>SET India</td>\n",
       "      <td>121741739317</td>\n",
       "    </tr>\n",
       "    <tr>\n",
       "      <th>3</th>\n",
       "      <td>PewDiePie</td>\n",
       "      <td>28424113942</td>\n",
       "    </tr>\n",
       "    <tr>\n",
       "      <th>4</th>\n",
       "      <td>MrBeast</td>\n",
       "      <td>16242634269</td>\n",
       "    </tr>\n",
       "  </tbody>\n",
       "</table>\n",
       "</div>"
      ],
      "text/plain": [
       "                Channel Name         Views\n",
       "0                   T-Series  195660744416\n",
       "1  ABCkidTV - Nursery Rhymes  133025325473\n",
       "2                  SET India  121741739317\n",
       "3                  PewDiePie   28424113942\n",
       "4                    MrBeast   16242634269"
      ]
     },
     "metadata": {},
     "output_type": "display_data"
    }
   ],
   "source": [
    "Top_viwes=youtubers_df[['Channel Name','Views']].head(5).sort_values('Views',ascending=False)\n",
    "df=pd.DataFrame(Top_viwes)\n",
    "display(df.drop_duplicates())"
   ]
  },
  {
   "cell_type": "code",
   "execution_count": 659,
   "id": "72d5e09e-ec81-4223-9169-8b688251efba",
   "metadata": {},
   "outputs": [
    {
     "data": {
      "image/png": "[encoded data removed]",
      "text/plain": [
       "<Figure size 720x576 with 1 Axes>"
      ]
     },
     "metadata": {},
     "output_type": "display_data"
    }
   ],
   "source": [
    "myexplode = [0.2,0,0,0,0]\n",
    "fig = plt.subplots(figsize=(10, 8))\n",
    "plt.pie(Top_viwes['Views'], labels=Top_viwes['Channel Name'],autopct='%.0f %%', explode = myexplode, shadow=True, rotatelabels='true');"
   ]
  },
  {
   "cell_type": "code",
   "execution_count": 749,
   "id": "1ba2c5e7-d07f-4f42-848e-84eb952f8eb7",
   "metadata": {},
   "outputs": [
    {
     "data": {
      "text/html": [
       "<div>\n",
       "<style scoped>\n",
       "    .dataframe tbody tr th:only-of-type {\n",
       "        vertical-align: middle;\n",
       "    }\n",
       "\n",
       "    .dataframe tbody tr th {\n",
       "        vertical-align: top;\n",
       "    }\n",
       "\n",
       "    .dataframe thead th {\n",
       "        text-align: right;\n",
       "    }\n",
       "</style>\n",
       "<table border=\"1\" class=\"dataframe\">\n",
       "  <thead>\n",
       "    <tr style=\"text-align: right;\">\n",
       "      <th></th>\n",
       "      <th>Channel Name</th>\n",
       "      <th>Comments Avg</th>\n",
       "    </tr>\n",
       "  </thead>\n",
       "  <tbody>\n",
       "    <tr>\n",
       "      <th>4</th>\n",
       "      <td>MrBeast</td>\n",
       "      <td>113432.373684</td>\n",
       "    </tr>\n",
       "    <tr>\n",
       "      <th>3</th>\n",
       "      <td>PewDiePie</td>\n",
       "      <td>35839.781347</td>\n",
       "    </tr>\n",
       "    <tr>\n",
       "      <th>0</th>\n",
       "      <td>T-Series</td>\n",
       "      <td>4493.984146</td>\n",
       "    </tr>\n",
       "    <tr>\n",
       "      <th>1</th>\n",
       "      <td>ABCkidTV - Nursery Rhymes</td>\n",
       "      <td>146.700252</td>\n",
       "    </tr>\n",
       "    <tr>\n",
       "      <th>2</th>\n",
       "      <td>SET India</td>\n",
       "      <td>76.244316</td>\n",
       "    </tr>\n",
       "  </tbody>\n",
       "</table>\n",
       "</div>"
      ],
      "text/plain": [
       "                Channel Name   Comments Avg\n",
       "4                    MrBeast  113432.373684\n",
       "3                  PewDiePie   35839.781347\n",
       "0                   T-Series    4493.984146\n",
       "1  ABCkidTV - Nursery Rhymes     146.700252\n",
       "2                  SET India      76.244316"
      ]
     },
     "metadata": {},
     "output_type": "display_data"
    }
   ],
   "source": [
    "Top_comments=youtubers_df[['Channel Name','Comments Avg']].head(5).sort_values('Comments Avg',ascending=False)\n",
    "df=pd.DataFrame(Top_comments)\n",
    "display(df.drop_duplicates())"
   ]
  },
  {
   "cell_type": "code",
   "execution_count": 754,
   "id": "6c026ff2-4310-448f-8d47-2f4ae61b0053",
   "metadata": {},
   "outputs": [
    {
     "data": {
      "image/png": "[encoded data removed]",
      "text/plain": [
       "<Figure size 1080x864 with 1 Axes>"
      ]
     },
     "metadata": {},
     "output_type": "display_data"
    }
   ],
   "source": [
    "myexplode = [0.2,0,0,0,0]\n",
    "fig = plt.subplots(figsize=(15, 12))\n",
    "plt.pie(Top_comments['Comments Avg'], labels=Top_comments['Channel Name'],autopct='%.0f %%', explode = myexplode, shadow=False, rotatelabels='true');\n",
    "plt.xticks(rotation=70)\n",
    "plt.title(\"The Comments Avg by Channel Name\")\n",
    "\n",
    "plt.show()"
   ]
  },
  {
   "cell_type": "markdown",
   "id": "8906754c-27be-4c76-9650-cc93cf55efc5",
   "metadata": {},
   "source": [
    "### <span style=\"color:blue\">Correlation test between views, followers, likes and average responses \n"
   ]
  },
  {
   "cell_type": "code",
   "execution_count": 662,
   "id": "386c66de-9994-4487-97dd-60809463a4be",
   "metadata": {},
   "outputs": [
    {
     "data": {
      "text/html": [
       "<div>\n",
       "<style scoped>\n",
       "    .dataframe tbody tr th:only-of-type {\n",
       "        vertical-align: middle;\n",
       "    }\n",
       "\n",
       "    .dataframe tbody tr th {\n",
       "        vertical-align: top;\n",
       "    }\n",
       "\n",
       "    .dataframe thead th {\n",
       "        text-align: right;\n",
       "    }\n",
       "</style>\n",
       "<table border=\"1\" class=\"dataframe\">\n",
       "  <thead>\n",
       "    <tr style=\"text-align: right;\">\n",
       "      <th></th>\n",
       "      <th>followers</th>\n",
       "      <th>Likes</th>\n",
       "      <th>Views</th>\n",
       "      <th>Comments Avg</th>\n",
       "    </tr>\n",
       "  </thead>\n",
       "  <tbody>\n",
       "    <tr>\n",
       "      <th>followers</th>\n",
       "      <td>1.00</td>\n",
       "      <td>0.46</td>\n",
       "      <td>0.83</td>\n",
       "      <td>0.05</td>\n",
       "    </tr>\n",
       "    <tr>\n",
       "      <th>Likes</th>\n",
       "      <td>0.46</td>\n",
       "      <td>1.00</td>\n",
       "      <td>0.19</td>\n",
       "      <td>0.43</td>\n",
       "    </tr>\n",
       "    <tr>\n",
       "      <th>Views</th>\n",
       "      <td>0.83</td>\n",
       "      <td>0.19</td>\n",
       "      <td>1.00</td>\n",
       "      <td>-0.20</td>\n",
       "    </tr>\n",
       "    <tr>\n",
       "      <th>Comments Avg</th>\n",
       "      <td>0.05</td>\n",
       "      <td>0.43</td>\n",
       "      <td>-0.20</td>\n",
       "      <td>1.00</td>\n",
       "    </tr>\n",
       "  </tbody>\n",
       "</table>\n",
       "</div>"
      ],
      "text/plain": [
       "              followers  Likes  Views  Comments Avg\n",
       "followers          1.00   0.46   0.83          0.05\n",
       "Likes              0.46   1.00   0.19          0.43\n",
       "Views              0.83   0.19   1.00         -0.20\n",
       "Comments Avg       0.05   0.43  -0.20          1.00"
      ]
     },
     "execution_count": 662,
     "metadata": {},
     "output_type": "execute_result"
    }
   ],
   "source": [
    "features = ['followers', 'Likes','Views','Comments Avg']\n",
    "correlation_matrix = youtubers_df[features].corr().round(2)\n",
    "correlation_matrix"
   ]
  },
  {
   "cell_type": "code",
   "execution_count": 663,
   "id": "df409150-5289-4e6b-a311-a382ecfd1027",
   "metadata": {},
   "outputs": [
    {
     "data": {
      "image/png": "[encoded data removed]",
      "text/plain": [
       "<Figure size 432x288 with 2 Axes>"
      ]
     },
     "metadata": {
      "needs_background": "light"
     },
     "output_type": "display_data"
    }
   ],
   "source": [
    "sns.heatmap(data=correlation_matrix,cmap='Greens', annot=True);"
   ]
  },
  {
   "cell_type": "markdown",
   "id": "83b19c4d-7ef8-4c19-8f81-ff10a1fbd385",
   "metadata": {},
   "source": [
    "<center><img src=\"https://i.pinimg.com/originals/c5/1d/dd/c51ddd57e983bbcd8e94a8e22b364a7f.gif\"\n",
    "     width=\"500\"  > </center>"
   ]
  },
  {
   "cell_type": "markdown",
   "id": "43adf3d7-5e3c-4a1b-8b5d-97965bc6468e",
   "metadata": {},
   "source": [
    "\n",
    "### <span style=\"color:green\">We can conclude and see that there is a very high correlation between the number of views of a YouTuber and the number of followers he has, which can testify to his popularity. In contrast, there is a low correlation between the number of views and the number of comments, which means that we cannot conclude anything from this.                                              We will advise advertising companies that want to use YouTubers for the purpose of publishing things and promoting content to look for YouTubers who have a match between their number of views and the number of followers.\n"
   ]
  },
  {
   "cell_type": "markdown",
   "id": "7c7dc7bf-4b33-464f-9aa9-3a84f086d6ca",
   "metadata": {},
   "source": [
    "-----\n",
    "### <span style=\"color:green\">Link to the YouTube channel of the YouTuber with the most followers: \"UCq-Fj5jknLsUf-MWSy4_brA\" \n",
    "----"
   ]
  },
  {
   "cell_type": "markdown",
   "id": "14842f29-6a92-4dca-9660-d40907773af2",
   "metadata": {},
   "source": [
    "<center><img src=\"https://media.news9live.com/h-upload/2021/12/08/91878-t-series.jpg\"\n",
    "     width=\"500\"  > </center>"
   ]
  },
  {
   "cell_type": "markdown",
   "id": "2e10c4f8-44b3-4d2c-8b28-1f11c808e7bb",
   "metadata": {},
   "source": [
    "# 4. Presentation of the different categories of YouTube channels"
   ]
  },
  {
   "cell_type": "markdown",
   "id": "9e12d86c-7b2b-4f7b-98b1-e06a44b7c429",
   "metadata": {},
   "source": [
    "### <span style=\"color:blue\">categories</span>"
   ]
  },
  {
   "cell_type": "code",
   "execution_count": 664,
   "id": "48d48101-6528-486e-9756-b33b1b87f39d",
   "metadata": {},
   "outputs": [
    {
     "data": {
      "text/html": [
       "<div>\n",
       "<style scoped>\n",
       "    .dataframe tbody tr th:only-of-type {\n",
       "        vertical-align: middle;\n",
       "    }\n",
       "\n",
       "    .dataframe tbody tr th {\n",
       "        vertical-align: top;\n",
       "    }\n",
       "\n",
       "    .dataframe thead th {\n",
       "        text-align: right;\n",
       "    }\n",
       "</style>\n",
       "<table border=\"1\" class=\"dataframe\">\n",
       "  <thead>\n",
       "    <tr style=\"text-align: right;\">\n",
       "      <th></th>\n",
       "      <th>Category</th>\n",
       "    </tr>\n",
       "  </thead>\n",
       "  <tbody>\n",
       "    <tr>\n",
       "      <th>0</th>\n",
       "      <td>Beauty &amp; Fashion</td>\n",
       "    </tr>\n",
       "    <tr>\n",
       "      <th>1</th>\n",
       "      <td>Fashion</td>\n",
       "    </tr>\n",
       "    <tr>\n",
       "      <th>2</th>\n",
       "      <td>Gaming &amp; Apps</td>\n",
       "    </tr>\n",
       "    <tr>\n",
       "      <th>3</th>\n",
       "      <td>LifeStyle</td>\n",
       "    </tr>\n",
       "    <tr>\n",
       "      <th>4</th>\n",
       "      <td>Music</td>\n",
       "    </tr>\n",
       "    <tr>\n",
       "      <th>5</th>\n",
       "      <td>None</td>\n",
       "    </tr>\n",
       "    <tr>\n",
       "      <th>6</th>\n",
       "      <td>Science &amp; Tech</td>\n",
       "    </tr>\n",
       "    <tr>\n",
       "      <th>7</th>\n",
       "      <td>Sports</td>\n",
       "    </tr>\n",
       "  </tbody>\n",
       "</table>\n",
       "</div>"
      ],
      "text/plain": [
       "           Category\n",
       "0  Beauty & Fashion\n",
       "1           Fashion\n",
       "2     Gaming & Apps\n",
       "3         LifeStyle\n",
       "4             Music\n",
       "5              None\n",
       "6    Science & Tech\n",
       "7            Sports"
      ]
     },
     "execution_count": 664,
     "metadata": {},
     "output_type": "execute_result"
    }
   ],
   "source": [
    "Types_Category=youtubers_df.groupby(\"Category\").count().reset_index()\n",
    "Types_Category[[\"Category\"]] "
   ]
  },
  {
   "cell_type": "markdown",
   "id": "b6eb2826-9a84-45c5-8152-e50d1fdfdb0d",
   "metadata": {},
   "source": [
    "### <span style=\"color:blue\">subcategories</span>"
   ]
  },
  {
   "cell_type": "code",
   "execution_count": 665,
   "id": "8a8fb117-296b-493b-b197-56f0da395714",
   "metadata": {},
   "outputs": [
    {
     "data": {
      "text/html": [
       "<div>\n",
       "<style scoped>\n",
       "    .dataframe tbody tr th:only-of-type {\n",
       "        vertical-align: middle;\n",
       "    }\n",
       "\n",
       "    .dataframe tbody tr th {\n",
       "        vertical-align: top;\n",
       "    }\n",
       "\n",
       "    .dataframe thead th {\n",
       "        text-align: right;\n",
       "    }\n",
       "</style>\n",
       "<table border=\"1\" class=\"dataframe\">\n",
       "  <thead>\n",
       "    <tr style=\"text-align: right;\">\n",
       "      <th></th>\n",
       "      <th>Main Video Category</th>\n",
       "    </tr>\n",
       "  </thead>\n",
       "  <tbody>\n",
       "    <tr>\n",
       "      <th>0</th>\n",
       "      <td>Action-adventure game</td>\n",
       "    </tr>\n",
       "    <tr>\n",
       "      <th>1</th>\n",
       "      <td>Comedy</td>\n",
       "    </tr>\n",
       "    <tr>\n",
       "      <th>2</th>\n",
       "      <td>Education</td>\n",
       "    </tr>\n",
       "    <tr>\n",
       "      <th>3</th>\n",
       "      <td>Entertainment</td>\n",
       "    </tr>\n",
       "    <tr>\n",
       "      <th>4</th>\n",
       "      <td>Film &amp; Animation</td>\n",
       "    </tr>\n",
       "    <tr>\n",
       "      <th>5</th>\n",
       "      <td>Gaming</td>\n",
       "    </tr>\n",
       "    <tr>\n",
       "      <th>6</th>\n",
       "      <td>Howto &amp; Style</td>\n",
       "    </tr>\n",
       "    <tr>\n",
       "      <th>7</th>\n",
       "      <td>Music</td>\n",
       "    </tr>\n",
       "    <tr>\n",
       "      <th>8</th>\n",
       "      <td>News &amp; Politics</td>\n",
       "    </tr>\n",
       "    <tr>\n",
       "      <th>9</th>\n",
       "      <td>Nonprofits &amp; Activism</td>\n",
       "    </tr>\n",
       "    <tr>\n",
       "      <th>10</th>\n",
       "      <td>People &amp; Blogs</td>\n",
       "    </tr>\n",
       "    <tr>\n",
       "      <th>11</th>\n",
       "      <td>Pop music</td>\n",
       "    </tr>\n",
       "    <tr>\n",
       "      <th>12</th>\n",
       "      <td>Shows</td>\n",
       "    </tr>\n",
       "    <tr>\n",
       "      <th>13</th>\n",
       "      <td>Sports</td>\n",
       "    </tr>\n",
       "    <tr>\n",
       "      <th>14</th>\n",
       "      <td>Strategy video game</td>\n",
       "    </tr>\n",
       "    <tr>\n",
       "      <th>15</th>\n",
       "      <td>TV shows</td>\n",
       "    </tr>\n",
       "  </tbody>\n",
       "</table>\n",
       "</div>"
      ],
      "text/plain": [
       "      Main Video Category\n",
       "0   Action-adventure game\n",
       "1                  Comedy\n",
       "2               Education\n",
       "3           Entertainment\n",
       "4        Film & Animation\n",
       "5                  Gaming\n",
       "6           Howto & Style\n",
       "7                   Music\n",
       "8         News & Politics\n",
       "9   Nonprofits & Activism\n",
       "10         People & Blogs\n",
       "11              Pop music\n",
       "12                  Shows\n",
       "13                 Sports\n",
       "14    Strategy video game\n",
       "15               TV shows"
      ]
     },
     "execution_count": 665,
     "metadata": {},
     "output_type": "execute_result"
    }
   ],
   "source": [
    "Types_Category=youtubers_df.groupby(\"Main Video Category\").count().reset_index()\n",
    "Types_Category[[\"Main Video Category\"]]"
   ]
  },
  {
   "cell_type": "markdown",
   "id": "be71baeb-950f-48ee-8155-114862f79e91",
   "metadata": {},
   "source": [
    "-----\n",
    "### <span style=\"color:green\"> We see that YouTube channels are divided into 8 categories and within them there are subcategories</span>\n",
    "-----"
   ]
  },
  {
   "cell_type": "markdown",
   "id": "32f2b55a-a392-4c39-bf84-4c674fa5106a",
   "metadata": {},
   "source": [
    "## Comparison between the number of likes and views for each category"
   ]
  },
  {
   "cell_type": "markdown",
   "id": "1c2ae1a4-de87-45a5-951c-d9ee13c7619e",
   "metadata": {},
   "source": [
    "### <span style=\"color:blue\"> 4.1 Which category do you think will get the most likes?</span>"
   ]
  },
  {
   "cell_type": "code",
   "execution_count": 698,
   "id": "a1df9909-c634-46c7-99de-769f4b4b8b62",
   "metadata": {},
   "outputs": [],
   "source": [
    "sum_youtubers_likes=youtubers_df.groupby(\"Category\")[[\"Likes\"]].sum().head(8).sort_values('Likes',ascending=False).reset_index()\n"
   ]
  },
  {
   "cell_type": "code",
   "execution_count": 703,
   "id": "41d3193c-5101-4bca-b7aa-5ef245685aaf",
   "metadata": {},
   "outputs": [
    {
     "data": {
      "text/html": [
       "<div>\n",
       "<style scoped>\n",
       "    .dataframe tbody tr th:only-of-type {\n",
       "        vertical-align: middle;\n",
       "    }\n",
       "\n",
       "    .dataframe tbody tr th {\n",
       "        vertical-align: top;\n",
       "    }\n",
       "\n",
       "    .dataframe thead th {\n",
       "        text-align: right;\n",
       "    }\n",
       "</style>\n",
       "<table border=\"1\" class=\"dataframe\">\n",
       "  <thead>\n",
       "    <tr style=\"text-align: right;\">\n",
       "      <th></th>\n",
       "      <th>Category</th>\n",
       "      <th>Likes</th>\n",
       "    </tr>\n",
       "  </thead>\n",
       "  <tbody>\n",
       "    <tr>\n",
       "      <th>0</th>\n",
       "      <td>Gaming &amp; Apps</td>\n",
       "      <td>2.110082e+10</td>\n",
       "    </tr>\n",
       "    <tr>\n",
       "      <th>1</th>\n",
       "      <td>Music</td>\n",
       "      <td>7.134182e+09</td>\n",
       "    </tr>\n",
       "    <tr>\n",
       "      <th>2</th>\n",
       "      <td>Beauty &amp; Fashion</td>\n",
       "      <td>2.224210e+09</td>\n",
       "    </tr>\n",
       "    <tr>\n",
       "      <th>3</th>\n",
       "      <td>other</td>\n",
       "      <td>1.388322e+09</td>\n",
       "    </tr>\n",
       "    <tr>\n",
       "      <th>4</th>\n",
       "      <td>Sports</td>\n",
       "      <td>5.438009e+08</td>\n",
       "    </tr>\n",
       "    <tr>\n",
       "      <th>5</th>\n",
       "      <td>LifeStyle</td>\n",
       "      <td>1.301445e+08</td>\n",
       "    </tr>\n",
       "    <tr>\n",
       "      <th>6</th>\n",
       "      <td>Science &amp; Tech</td>\n",
       "      <td>3.693215e+07</td>\n",
       "    </tr>\n",
       "    <tr>\n",
       "      <th>7</th>\n",
       "      <td>Fashion</td>\n",
       "      <td>1.205009e+06</td>\n",
       "    </tr>\n",
       "  </tbody>\n",
       "</table>\n",
       "</div>"
      ],
      "text/plain": [
       "           Category         Likes\n",
       "0     Gaming & Apps  2.110082e+10\n",
       "1             Music  7.134182e+09\n",
       "2  Beauty & Fashion  2.224210e+09\n",
       "3             other  1.388322e+09\n",
       "4            Sports  5.438009e+08\n",
       "5         LifeStyle  1.301445e+08\n",
       "6    Science & Tech  3.693215e+07\n",
       "7           Fashion  1.205009e+06"
      ]
     },
     "execution_count": 703,
     "metadata": {},
     "output_type": "execute_result"
    }
   ],
   "source": [
    "youtubers_df['Category'].replace('None','other',inplace = True)\n",
    "sum_youtubers_likes\n"
   ]
  },
  {
   "cell_type": "code",
   "execution_count": 755,
   "id": "a58c0f7e-30ff-4499-96b3-27f91c350214",
   "metadata": {},
   "outputs": [
    {
     "data": {
      "image/png": "[encoded data removed]",
      "text/plain": [
       "<Figure size 432x288 with 1 Axes>"
      ]
     },
     "metadata": {
      "needs_background": "light"
     },
     "output_type": "display_data"
    }
   ],
   "source": [
    "sns.barplot(data = sum_youtubers_likes, x='Category', y='Likes')\n",
    "plt.xticks(rotation=70)\n",
    "plt.title(\"Categories for likes\")\n",
    "\n",
    "plt.show()"
   ]
  },
  {
   "cell_type": "markdown",
   "id": "2e5668c1-6147-4264-8210-2591b3af41ba",
   "metadata": {},
   "source": [
    "### <span style=\"color:blue\"> 4.2 Which category do you think will get the most views?</span>"
   ]
  },
  {
   "cell_type": "code",
   "execution_count": 702,
   "id": "3c7d34a7-b640-4531-b05b-62d0bdedf682",
   "metadata": {},
   "outputs": [
    {
     "data": {
      "text/html": [
       "<div>\n",
       "<style scoped>\n",
       "    .dataframe tbody tr th:only-of-type {\n",
       "        vertical-align: middle;\n",
       "    }\n",
       "\n",
       "    .dataframe tbody tr th {\n",
       "        vertical-align: top;\n",
       "    }\n",
       "\n",
       "    .dataframe thead th {\n",
       "        text-align: right;\n",
       "    }\n",
       "</style>\n",
       "<table border=\"1\" class=\"dataframe\">\n",
       "  <thead>\n",
       "    <tr style=\"text-align: right;\">\n",
       "      <th></th>\n",
       "      <th>Category</th>\n",
       "      <th>Views</th>\n",
       "    </tr>\n",
       "  </thead>\n",
       "  <tbody>\n",
       "    <tr>\n",
       "      <th>0</th>\n",
       "      <td>Gaming &amp; Apps</td>\n",
       "      <td>2071795088551</td>\n",
       "    </tr>\n",
       "    <tr>\n",
       "      <th>1</th>\n",
       "      <td>Music</td>\n",
       "      <td>1003338743179</td>\n",
       "    </tr>\n",
       "    <tr>\n",
       "      <th>2</th>\n",
       "      <td>other</td>\n",
       "      <td>298476961390</td>\n",
       "    </tr>\n",
       "    <tr>\n",
       "      <th>3</th>\n",
       "      <td>Beauty &amp; Fashion</td>\n",
       "      <td>76055778358</td>\n",
       "    </tr>\n",
       "    <tr>\n",
       "      <th>4</th>\n",
       "      <td>Sports</td>\n",
       "      <td>69794363750</td>\n",
       "    </tr>\n",
       "    <tr>\n",
       "      <th>5</th>\n",
       "      <td>LifeStyle</td>\n",
       "      <td>37334043445</td>\n",
       "    </tr>\n",
       "    <tr>\n",
       "      <th>6</th>\n",
       "      <td>Fashion</td>\n",
       "      <td>19885240007</td>\n",
       "    </tr>\n",
       "    <tr>\n",
       "      <th>7</th>\n",
       "      <td>Science &amp; Tech</td>\n",
       "      <td>9969944772</td>\n",
       "    </tr>\n",
       "  </tbody>\n",
       "</table>\n",
       "</div>"
      ],
      "text/plain": [
       "           Category          Views\n",
       "0     Gaming & Apps  2071795088551\n",
       "1             Music  1003338743179\n",
       "2             other   298476961390\n",
       "3  Beauty & Fashion    76055778358\n",
       "4            Sports    69794363750\n",
       "5         LifeStyle    37334043445\n",
       "6           Fashion    19885240007\n",
       "7    Science & Tech     9969944772"
      ]
     },
     "execution_count": 702,
     "metadata": {},
     "output_type": "execute_result"
    }
   ],
   "source": [
    "sum_youtubers_viwes=youtubers_df.groupby(\"Category\")[[\"Views\"]].sum().head(8).sort_values('Views',ascending=False).reset_index()\n",
    "sum_youtubers_viwes"
   ]
  },
  {
   "cell_type": "code",
   "execution_count": 756,
   "id": "1e9a2662-e84a-4148-a258-9265e80c89d6",
   "metadata": {},
   "outputs": [
    {
     "data": {
      "image/png": "[encoded data removed]",
      "text/plain": [
       "<Figure size 432x288 with 1 Axes>"
      ]
     },
     "metadata": {
      "needs_background": "light"
     },
     "output_type": "display_data"
    }
   ],
   "source": [
    "sns.barplot(data = sum_youtubers_viwes, x='Category', y='Views')\n",
    "plt.xticks(rotation=70)\n",
    "plt.title(\"Categories for Views\")\n",
    "\n",
    "plt.show()"
   ]
  },
  {
   "cell_type": "markdown",
   "id": "505c11f9-81c1-4c0a-9647-9b8f807ebcf9",
   "metadata": {},
   "source": [
    "<center><img src=\"https://i.pinimg.com/originals/0e/5a/12/0e5a1229af2022854ac1dfe3dff221b5.gif\"\n",
    "     width=\"500\"  > </center>\n",
    "\n",
    "\n"
   ]
  },
  {
   "cell_type": "markdown",
   "id": "9a46b96b-6f0c-4ca2-8494-4a75fbbdd1d4",
   "metadata": {},
   "source": [
    "------\n",
    "### <span style=\"color:green\">According to the data, we can conclude that most people like to watch YouTube videos about apps & games and music and this is the most watched categories both by likes and views</span>\n",
    "------"
   ]
  },
  {
   "cell_type": "markdown",
   "id": "faa9aa08-7ce6-4804-afba-a2646cb2e944",
   "metadata": {},
   "source": [
    "# 5. Checking the subcategories within the top category for all YouTubers"
   ]
  },
  {
   "cell_type": "markdown",
   "id": "17091ffe-db7b-406a-8be7-37dcc7068a5c",
   "metadata": {},
   "source": [
    "### <span style=\"color:blue\"> 5.1 We took the category from all the YouTube channels that received the most likes and viwes, and this is the games & apps category, and we will check which subcategory is the most popular among them</span>"
   ]
  },
  {
   "cell_type": "code",
   "execution_count": 671,
   "id": "cea306bf-5ef9-420b-a4ca-91a8a3b7402f",
   "metadata": {},
   "outputs": [
    {
     "data": {
      "text/html": [
       "<div>\n",
       "<style scoped>\n",
       "    .dataframe tbody tr th:only-of-type {\n",
       "        vertical-align: middle;\n",
       "    }\n",
       "\n",
       "    .dataframe tbody tr th {\n",
       "        vertical-align: top;\n",
       "    }\n",
       "\n",
       "    .dataframe thead th {\n",
       "        text-align: right;\n",
       "    }\n",
       "</style>\n",
       "<table border=\"1\" class=\"dataframe\">\n",
       "  <thead>\n",
       "    <tr style=\"text-align: right;\">\n",
       "      <th></th>\n",
       "      <th>Category</th>\n",
       "      <th>Main Video Category</th>\n",
       "      <th>Views</th>\n",
       "    </tr>\n",
       "  </thead>\n",
       "  <tbody>\n",
       "    <tr>\n",
       "      <th>11</th>\n",
       "      <td>Gaming &amp; Apps</td>\n",
       "      <td>Music</td>\n",
       "      <td>734614279425</td>\n",
       "    </tr>\n",
       "    <tr>\n",
       "      <th>7</th>\n",
       "      <td>Gaming &amp; Apps</td>\n",
       "      <td>Entertainment</td>\n",
       "      <td>437939783930</td>\n",
       "    </tr>\n",
       "    <tr>\n",
       "      <th>6</th>\n",
       "      <td>Gaming &amp; Apps</td>\n",
       "      <td>Education</td>\n",
       "      <td>211284671127</td>\n",
       "    </tr>\n",
       "    <tr>\n",
       "      <th>9</th>\n",
       "      <td>Gaming &amp; Apps</td>\n",
       "      <td>Gaming</td>\n",
       "      <td>180099905054</td>\n",
       "    </tr>\n",
       "    <tr>\n",
       "      <th>15</th>\n",
       "      <td>Gaming &amp; Apps</td>\n",
       "      <td>Shows</td>\n",
       "      <td>168934370570</td>\n",
       "    </tr>\n",
       "    <tr>\n",
       "      <th>8</th>\n",
       "      <td>Gaming &amp; Apps</td>\n",
       "      <td>Film &amp; Animation</td>\n",
       "      <td>145605764095</td>\n",
       "    </tr>\n",
       "    <tr>\n",
       "      <th>5</th>\n",
       "      <td>Gaming &amp; Apps</td>\n",
       "      <td>Comedy</td>\n",
       "      <td>54410608666</td>\n",
       "    </tr>\n",
       "    <tr>\n",
       "      <th>13</th>\n",
       "      <td>Gaming &amp; Apps</td>\n",
       "      <td>People &amp; Blogs</td>\n",
       "      <td>53356208285</td>\n",
       "    </tr>\n",
       "    <tr>\n",
       "      <th>12</th>\n",
       "      <td>Gaming &amp; Apps</td>\n",
       "      <td>News &amp; Politics</td>\n",
       "      <td>31167549443</td>\n",
       "    </tr>\n",
       "    <tr>\n",
       "      <th>10</th>\n",
       "      <td>Gaming &amp; Apps</td>\n",
       "      <td>Howto &amp; Style</td>\n",
       "      <td>27424046346</td>\n",
       "    </tr>\n",
       "    <tr>\n",
       "      <th>16</th>\n",
       "      <td>Gaming &amp; Apps</td>\n",
       "      <td>Sports</td>\n",
       "      <td>14560770809</td>\n",
       "    </tr>\n",
       "    <tr>\n",
       "      <th>14</th>\n",
       "      <td>Gaming &amp; Apps</td>\n",
       "      <td>Pop music</td>\n",
       "      <td>12397130801</td>\n",
       "    </tr>\n",
       "  </tbody>\n",
       "</table>\n",
       "</div>"
      ],
      "text/plain": [
       "         Category Main Video Category         Views\n",
       "11  Gaming & Apps               Music  734614279425\n",
       "7   Gaming & Apps       Entertainment  437939783930\n",
       "6   Gaming & Apps           Education  211284671127\n",
       "9   Gaming & Apps              Gaming  180099905054\n",
       "15  Gaming & Apps               Shows  168934370570\n",
       "8   Gaming & Apps    Film & Animation  145605764095\n",
       "5   Gaming & Apps              Comedy   54410608666\n",
       "13  Gaming & Apps      People & Blogs   53356208285\n",
       "12  Gaming & Apps     News & Politics   31167549443\n",
       "10  Gaming & Apps       Howto & Style   27424046346\n",
       "16  Gaming & Apps              Sports   14560770809\n",
       "14  Gaming & Apps           Pop music   12397130801"
      ]
     },
     "execution_count": 671,
     "metadata": {},
     "output_type": "execute_result"
    }
   ],
   "source": [
    "YouTubers_Category=youtubers_df.groupby(['Category','Main Video Category'])[['Views']].sum().reset_index().sort_values('Views',ascending=False)\n",
    "YouTubers_Category=YouTubers_Category[YouTubers_Category['Category']=='Gaming & Apps']\n",
    "YouTubers_Category"
   ]
  },
  {
   "cell_type": "markdown",
   "id": "80bc95b9-c543-43d6-b144-c983016027be",
   "metadata": {},
   "source": [
    "### <span style=\"color:blue\">Let's see the data in the figure</span>"
   ]
  },
  {
   "cell_type": "code",
   "execution_count": 759,
   "id": "6c7e695b-827b-45b8-95e7-4fea3fe9a3c4",
   "metadata": {},
   "outputs": [
    {
     "data": {
      "image/png": "[encoded data removed]",
      "text/plain": [
       "<Figure size 1296x720 with 1 Axes>"
      ]
     },
     "metadata": {
      "needs_background": "light"
     },
     "output_type": "display_data"
    }
   ],
   "source": [
    "fig = plt.subplots(figsize=(18,10))\n",
    "sns.barplot( y=\"Views\", x=\"Main Video Category\" ,data=YouTubers_Category);\n",
    "plt.title(\"Subcategories for Views\");\n"
   ]
  },
  {
   "cell_type": "markdown",
   "id": "3a323796-4980-4ac0-86d9-c837fa36a8bb",
   "metadata": {},
   "source": [
    "---\n",
    "\n",
    "### <span style=\"color:green\"> We can see in the figure that out of all the subcategories we have some leaders in the number of views and likes. You can see the high place of music, entertainment followed by education.It makes sense for the music and entertainment categories to be in high places because in the end YouTube turns to this topic and most people use it for leisure, but the surprise is that education, which we did not expect to occupy a high place in the level of views and likes.                                      We can conclude from this that people would prefer to watch educational content on YouTube over games/shows/movies</span>\n",
    "  \n",
    "### <span style=\"color:green\">We will advise the schools to use educational YouTube videos for the benefit of learning, which can help the student to understand the studies.The world is getting better and better and a student would rather use short videos than an explanation on the board</span> \n",
    "---\n"
   ]
  },
  {
   "cell_type": "markdown",
   "id": "7dd89c28-a3b9-4f3c-91c5-7a71c6b5a76a",
   "metadata": {},
   "source": [
    "<center><img src=\"https://hesegim.org.il/wp-content/uploads/2020/05/29493.jpg\"\n",
    "     width=\"500\"  > </center>\n"
   ]
  },
  {
   "cell_type": "markdown",
   "id": "5e03a043-ff88-43fa-a7e8-97c4e7aeaae6",
   "metadata": {},
   "source": []
  },
  {
   "cell_type": "code",
   "execution_count": 725,
   "id": "ed8e906b-c4d9-48e6-8495-583431b33f54",
   "metadata": {},
   "outputs": [],
   "source": []
  },
  {
   "cell_type": "code",
   "execution_count": null,
   "id": "687e95b8-f68b-40b0-8535-6aff7bf123a4",
   "metadata": {},
   "outputs": [],
   "source": []
  }
 ],
 "metadata": {
  "kernelspec": {
   "display_name": "Python 3 (ipykernel)",
   "language": "python",
   "name": "python3"
  },
  "language_info": {
   "codemirror_mode": {
    "name": "ipython",
    "version": 3
   },
   "file_extension": ".py",
   "mimetype": "text/x-python",
   "name": "python",
   "nbconvert_exporter": "python",
   "pygments_lexer": "ipython3",
   "version": "3.9.7"
  }
 },
 "nbformat": 4,
 "nbformat_minor": 5
}
